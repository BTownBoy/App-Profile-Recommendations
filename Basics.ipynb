{
 "cells": [
  {
   "cell_type": "markdown",
   "metadata": {},
   "source": [
    "# Identify app types that attract users in iOS & Android stores\n",
    "Look into app listing in Apple app store and Andoird Play Store to identify free app types that garner the most # of users"
   ]
  },
  {
   "cell_type": "code",
   "execution_count": 1,
   "metadata": {},
   "outputs": [
    {
     "name": "stdout",
     "output_type": "stream",
     "text": [
      "['id', 'track_name', 'size_bytes', 'currency', 'price', 'rating_count_tot', 'rating_count_ver', 'user_rating', 'user_rating_ver', 'ver', 'cont_rating', 'prime_genre', 'sup_devices.num', 'ipadSc_urls.num', 'lang.num', 'vpp_lic']\n",
      "\n",
      "\n",
      "['284882215', 'Facebook', '389879808', 'USD', '0.0', '2974676', '212', '3.5', '3.5', '95.0', '4+', 'Social Networking', '37', '1', '29', '1']\n",
      "\n",
      "\n",
      "Number of rows: 7198\n",
      "Number of columns: 16\n",
      "['App', 'Category', 'Rating', 'Reviews', 'Size', 'Installs', 'Type', 'Price', 'Content Rating', 'Genres', 'Last Updated', 'Current Ver', 'Android Ver']\n",
      "\n",
      "\n",
      "['Photo Editor & Candy Camera & Grid & ScrapBook', 'ART_AND_DESIGN', '4.1', '159', '19M', '10,000+', 'Free', '0', 'Everyone', 'Art & Design', 'January 7, 2018', '1.0.0', '4.0.3 and up']\n",
      "\n",
      "\n",
      "Number of rows: 10842\n",
      "Number of columns: 13\n"
     ]
    }
   ],
   "source": [
    "open_apple_file = open('AppleStore.csv')\n",
    "from csv import reader\n",
    "read_apple_file = reader(open_apple_file)\n",
    "apps_list = list(read_apple_file)\n",
    "\n",
    "open_android_file = open('googleplaystore.csv')\n",
    "from csv import reader\n",
    "read_android_file = reader(open_android_file)\n",
    "android_list = list(read_android_file)\n",
    "\n",
    "def explore_data(dataset, start, end, rows_and_columns=False):\n",
    "    dataset_slice = dataset[start:end]    \n",
    "    for row in dataset_slice:\n",
    "        print(row)\n",
    "        print('\\n') # adds a new (empty) line after each row\n",
    "\n",
    "    if rows_and_columns:\n",
    "        print('Number of rows:', len(dataset))\n",
    "        print('Number of columns:', len(dataset[0]))\n",
    "        \n",
    "explore_data(apps_list, 0, 2, rows_and_columns = True)\n",
    "explore_data(android_list, 0, 2, rows_and_columns = True)"
   ]
  },
  {
   "cell_type": "markdown",
   "metadata": {},
   "source": [
    "While in lesson 2, the question was 'Print the column names and try to identify the columns that could help us with our analysis. Use the documentation of the data sets if you're having trouble understanding what a column describes. Add a link to the documentation for readers if you think the column names are not descriptive enough.'\n",
    "\n",
    "For Apple app store, potentially interesting columns would be - price (Column # 4, python index 3) and prime_genre (Column # 12, Python index 11).\n",
    "\n",
    "For Android Play store, potentially interesting columns would be - Type (Column # 7, Python index # 6), Price (Column # 8, Python index # 7), Category (Column # 2, Python index # 1) and Genres (Column # 10, Python index # 9).\n",
    "Type - Free or Paid.\n",
    "Price - Self-explnatory.\n",
    "Category and Genres seems to be the same."
   ]
  },
  {
   "cell_type": "markdown",
   "metadata": {},
   "source": [
    "Based on kaggle, it seems there is one row with column shift, meaning 'the total number of values' in that particular row is less than the total # of values in the header or rest of the rows. The goal is to identify and remove it.\n",
    "\n",
    "This was done by using the length of header row for reference. The row ID was identified using a counter and then removed below."
   ]
  },
  {
   "cell_type": "code",
   "execution_count": 2,
   "metadata": {},
   "outputs": [
    {
     "name": "stdout",
     "output_type": "stream",
     "text": [
      "['Life Made WI-Fi Touchscreen Photo Frame', '1.9', '19', '3.0M', '1,000+', 'Free', '0', 'Everyone', '', 'February 11, 2018', '1.0.19', '4.0 and up']\n",
      "Python row index =  10473\n"
     ]
    }
   ],
   "source": [
    "## Code to identify the row with less # of values than the header aka column shift\n",
    "android_header_length = len(android_list[0])\n",
    "counter = 0\n",
    "for temp in android_list:\n",
    "    row_length = len(temp)\n",
    "    if row_length != android_header_length:\n",
    "        print(temp)\n",
    "        print('Python row index = ', counter)\n",
    "##        del temp\n",
    "    counter += 1\n",
    "    \n",
    "\n",
    "## print(android_list[10472], android_list[10473], android_list[10474], '\\n')\n",
    "\n",
    "del android_list[10473]\n",
    "\n",
    "## print(android_list[10472], android_list[10473], android_list[10474])"
   ]
  },
  {
   "cell_type": "code",
   "execution_count": 3,
   "metadata": {},
   "outputs": [
    {
     "name": "stdout",
     "output_type": "stream",
     "text": [
      "Total # of duplicates in Android Play Store = 1181\n"
     ]
    }
   ],
   "source": [
    "duplicate_id = []\n",
    "unique_id = []\n",
    "\n",
    "for temp in android_list[1:]:\n",
    "    if temp[0] in unique_id:\n",
    "        duplicate_id.append(temp[0])\n",
    "    else:\n",
    "        unique_id.append(temp[0])\n",
    "        \n",
    "print('Total # of duplicates in Android Play Store =', len(duplicate_id))\n",
    "\n",
    "##for temp in android_list[1:]:\n",
    "##    if temp[0] == duplicate_id[0]:\n",
    "##        print(temp, '\\n')\n",
    "\n",
    "##for temp in duplicate_id:\n",
    "##    for temp1 in android_list[1:]:\n",
    "##        if temp == temp1[0]:\n",
    " ##           print(temp1)"
   ]
  },
  {
   "cell_type": "markdown",
   "metadata": {},
   "source": [
    "Based on the code in the above code box + the output, Google Play store has 1181 duplicates. The duplicates tend to have the same values except for the column, 'Reviews'. \n",
    "\n",
    "1. Our first approach is to use total number of reviews (4th column), identify the maximum value and utilize it. Rest of the duplicate rows with lower # of reviews are not being used.\n",
    "2. Another hypothese is that we are not interested in the value within the 'Reviews' column. Even if we are, the values seem to not differ much. Hence the plan is to remove all the rows except the first occuring one. This is just a hypothesis and may not even be done."
   ]
  },
  {
   "cell_type": "markdown",
   "metadata": {},
   "source": [
    "Create an empty dictionary. The intent is to create a dictionary with unique app names as keys in the dictionary. The corresponding values to each key would be the maximum number of reviews for the app.\n",
    "\n",
    "Iterate through the list.\n",
    "    If the name is not in the dictionary, add the app name and the total number of reviews as a float value.\n",
    "    If the name is already in the dictionary, compare the already existing number of reviews in the dictionary against the repeating app name's number of reviews. If the number of reviews value in the dictionary is lesser, replace that with the higher value existing in the newly found repeated app name's number of reviews.\n",
    "    \n",
    "Verify our work by ensuring that total number of value in the dictionary to be 9659 (10842 - 1 - 1 - 1181).\n",
    "Total number of rows in the first cell - 10842\n",
    "Subtract header - 1\n",
    "Subtract the deleted row due to column shift in the second cell - 1\n",
    "Subtract the total number of duplicates - 1181"
   ]
  },
  {
   "cell_type": "markdown",
   "metadata": {},
   "source": [
    "Intent of the following code is to identify app names and the respective maximum # of reviews. These are stored in a dictionary.\n",
    "\n",
    "Loop through Andoid play list. If the name is already in the dictionary, compare the review value tied to the app name in the dictionary against the review in the play list, If the value in play list is higher, update the review value in the dictionary. The values are compared after converting it into float."
   ]
  },
  {
   "cell_type": "code",
   "execution_count": 4,
   "metadata": {},
   "outputs": [
    {
     "name": "stdout",
     "output_type": "stream",
     "text": [
      "9659\n"
     ]
    }
   ],
   "source": [
    "reviews_max = {}\n",
    "\n",
    "for temp in android_list[1:]:\n",
    "    name = temp[0]\n",
    "    n_reviews = float(temp[3])\n",
    "    if name in reviews_max and reviews_max[name] < n_reviews:\n",
    "        reviews_max[name] = n_reviews\n",
    "    if name not in reviews_max:\n",
    "        reviews_max[name] = n_reviews\n",
    "    \n",
    "        \n",
    "print(len(reviews_max))\n",
    "##print(reviews_max)"
   ]
  },
  {
   "cell_type": "markdown",
   "metadata": {},
   "source": [
    "Original intent was to identify the row ID and delete it using del common. However, it was found that the row ID # would reduce and may become cumbersome. Instead the game plan is to copy the unique IDs and the repeated IDs with the maximum review # to a new list. Break statement was used as a list may have app IDs repeat with repeating review #s."
   ]
  },
  {
   "cell_type": "code",
   "execution_count": 5,
   "metadata": {},
   "outputs": [
    {
     "name": "stdout",
     "output_type": "stream",
     "text": [
      "9659\n"
     ]
    }
   ],
   "source": [
    "android_clean = []\n",
    "\n",
    "for temp_1 in reviews_max:\n",
    "##    print(temp_1)\n",
    "    for temp_2 in android_list[1:]:\n",
    "        if temp_1 == temp_2[0] and reviews_max[temp_1] == float(temp_2[3]):\n",
    "            android_clean.append(temp_2)\n",
    "            break\n",
    "            \n",
    "print(len(android_clean))"
   ]
  },
  {
   "cell_type": "markdown",
   "metadata": {},
   "source": [
    "Intent is to see if there are any column shifts and duplicates in the Apple app store."
   ]
  },
  {
   "cell_type": "code",
   "execution_count": 6,
   "metadata": {},
   "outputs": [],
   "source": [
    "## Code to identify the row with less # of values than the header aka column shift\n",
    "apple_header_length = len(apps_list[0])\n",
    "counter = 0\n",
    "for temp in apps_list:\n",
    "    row_length = len(temp)\n",
    "    if row_length != apple_header_length:\n",
    "        print(temp)\n",
    "        print('Python row index = ', counter)\n",
    "##        del temp\n",
    "    counter += 1\n",
    "    \n",
    "\n",
    "## print(android_list[10472], android_list[10473], android_list[10474], '\\n')\n",
    "\n",
    "## del android_list[10473]\n",
    "\n",
    "## print(android_list[10472], android_list[10473], android_list[10474])"
   ]
  },
  {
   "cell_type": "markdown",
   "metadata": {},
   "source": [
    "No results from the above code confirm that app store list does not have any column shifts."
   ]
  },
  {
   "cell_type": "code",
   "execution_count": 7,
   "metadata": {},
   "outputs": [
    {
     "name": "stdout",
     "output_type": "stream",
     "text": [
      "Total # of duplicates in Apple app store = 0\n"
     ]
    }
   ],
   "source": [
    "duplicate_id = []\n",
    "unique_id = []\n",
    "\n",
    "for temp in apps_list[1:]:\n",
    "    if temp[1] in unique_id:\n",
    "        duplicate_id.append(temp[0])\n",
    "    else:\n",
    "        unique_id.append(temp[0])\n",
    "        \n",
    "print('Total # of duplicates in Apple app store =', len(duplicate_id))"
   ]
  },
  {
   "cell_type": "markdown",
   "metadata": {},
   "source": [
    "Results from the above code confirm that there are no duplicates in the Apple app store.\n",
    "\n",
    "Hooks like Google Play Store and Apple Apps Store tend to have non-English apps. Our intent is to build apps for English audience. Hence our plan is to write a function which takes in the app name and resturn True if all the characters are English. If any of the character is non-English, it shall return False. There are 2 items to keep in mind. Use ord() function to find the # equivalent for the character. Some English apps may have smilies and other characters. Hence it is ok to have upto 3 non-English characters. This is a decent approximation.\n",
    "\n",
    "Once a App is identified move this to a seperate list for both the app list."
   ]
  },
  {
   "cell_type": "code",
   "execution_count": 8,
   "metadata": {},
   "outputs": [
    {
     "name": "stdout",
     "output_type": "stream",
     "text": [
      "Total # of English records within Android Play list = 9614\n",
      "Total # of English records within Apple Apps list = 6183\n"
     ]
    }
   ],
   "source": [
    "abc = ['Instagram', '爱奇艺PPS -《欢乐颂2》电视剧热播', 'Docs To Go™ Free Office Suite', 'Instachat 😜', '爱奇艺PPS', '爱奇艺PPS奇']\n",
    "\n",
    "def non_english(string):\n",
    "    counter = 0\n",
    "    for temp in string:\n",
    "##        print(temp)\n",
    "        if ord(temp) > 127:\n",
    "            counter += 1\n",
    "        if counter > 3:\n",
    "            return False\n",
    "    return True\n",
    "\n",
    "android_clean_english = []\n",
    "\n",
    "for temp_1 in android_clean:\n",
    "##    print(temp_1)\n",
    "    if non_english(temp_1[0]):\n",
    "        android_clean_english.append(temp_1)\n",
    "##        print('English')\n",
    "##    else:\n",
    "##        print('Non English')\n",
    "\n",
    "print('Total # of English records within Android Play list =', len(android_clean_english))\n",
    "\n",
    "apple_clean_english = []\n",
    "\n",
    "for temp_1 in apps_list[1:]:\n",
    "    if non_english(temp_1[1]):\n",
    "        apple_clean_english.append(temp_1)\n",
    "        \n",
    "print('Total # of English records within Apple Apps list =', len(apple_clean_english))"
   ]
  },
  {
   "cell_type": "markdown",
   "metadata": {},
   "source": [
    "Identify free apps and move it to a seperate list."
   ]
  },
  {
   "cell_type": "code",
   "execution_count": 9,
   "metadata": {},
   "outputs": [
    {
     "name": "stdout",
     "output_type": "stream",
     "text": [
      "Total # of free English apps in Android Play Store = 8864\n",
      "Total # of free English apps in Apple Apps Store = 3222\n"
     ]
    }
   ],
   "source": [
    "android_clean_english_free = []\n",
    "\n",
    "for temp in android_clean_english:\n",
    "##    print(temp)\n",
    "    if temp[7] == '0':\n",
    "        android_clean_english_free.append(temp)\n",
    "##        print('Free')\n",
    "\n",
    "print('Total # of free English apps in Android Play Store =', len(android_clean_english_free))\n",
    "\n",
    "apple_clean_english_free = []\n",
    "\n",
    "for temp in apple_clean_english:\n",
    "##    print(temp)\n",
    "    if temp[4] == '0.0':\n",
    "        apple_clean_english_free.append(temp)\n",
    "##        print('Free')\n",
    "\n",
    "print('Total # of free English apps in Apple Apps Store =', len(apple_clean_english_free))"
   ]
  },
  {
   "cell_type": "markdown",
   "metadata": {},
   "source": [
    "Our goal is to find app genres that are common with both the app stores."
   ]
  },
  {
   "cell_type": "code",
   "execution_count": 11,
   "metadata": {},
   "outputs": [
    {
     "name": "stdout",
     "output_type": "stream",
     "text": [
      "Frequency of Apple app types based on free English apps\n",
      "Games : 58.16263190564867\n",
      "Entertainment : 7.883302296710118\n",
      "Photo & Video : 4.9658597144630665\n",
      "Education : 3.662321539416512\n",
      "Social Networking : 3.2898820608317814\n",
      "Shopping : 2.60707635009311\n",
      "Utilities : 2.5139664804469275\n",
      "Sports : 2.1415270018621975\n",
      "Music : 2.0484171322160147\n",
      "Health & Fitness : 2.0173805090006205\n",
      "Productivity : 1.7380509000620732\n",
      "Lifestyle : 1.5828677839851024\n",
      "News : 1.3345747982619491\n",
      "Travel : 1.2414649286157666\n",
      "Finance : 1.1173184357541899\n",
      "Weather : 0.8690254500310366\n",
      "Food & Drink : 0.8069522036002483\n",
      "Reference : 0.5586592178770949\n",
      "Business : 0.5276225946617008\n",
      "Book : 0.4345127250155183\n",
      "Navigation : 0.186219739292365\n",
      "Medical : 0.186219739292365\n",
      "Catalogs : 0.12414649286157665\n",
      "\n",
      "\n",
      "Frequency of Android app types based on free English apps. Using Category\n",
      "FAMILY : 18.907942238267147\n",
      "GAME : 9.724729241877256\n",
      "TOOLS : 8.461191335740072\n",
      "BUSINESS : 4.591606498194946\n",
      "LIFESTYLE : 3.9034296028880866\n",
      "PRODUCTIVITY : 3.892148014440433\n",
      "FINANCE : 3.7003610108303246\n",
      "MEDICAL : 3.531137184115524\n",
      "SPORTS : 3.395758122743682\n",
      "PERSONALIZATION : 3.3167870036101084\n",
      "COMMUNICATION : 3.2378158844765346\n",
      "HEALTH_AND_FITNESS : 3.0798736462093865\n",
      "PHOTOGRAPHY : 2.944494584837545\n",
      "NEWS_AND_MAGAZINES : 2.7978339350180503\n",
      "SOCIAL : 2.6624548736462095\n",
      "TRAVEL_AND_LOCAL : 2.33528880866426\n",
      "SHOPPING : 2.2450361010830324\n",
      "BOOKS_AND_REFERENCE : 2.1435018050541514\n",
      "DATING : 1.861462093862816\n",
      "VIDEO_PLAYERS : 1.7937725631768955\n",
      "MAPS_AND_NAVIGATION : 1.3989169675090252\n",
      "FOOD_AND_DRINK : 1.2409747292418771\n",
      "EDUCATION : 1.1620036101083033\n",
      "ENTERTAINMENT : 0.9589350180505415\n",
      "LIBRARIES_AND_DEMO : 0.9363718411552346\n",
      "AUTO_AND_VEHICLES : 0.9250902527075812\n",
      "HOUSE_AND_HOME : 0.8235559566787004\n",
      "WEATHER : 0.8009927797833934\n",
      "EVENTS : 0.7107400722021661\n",
      "PARENTING : 0.6543321299638989\n",
      "ART_AND_DESIGN : 0.6430505415162455\n",
      "COMICS : 0.6204873646209386\n",
      "BEAUTY : 0.5979241877256317\n",
      "\n",
      "\n",
      "Frequency of Android app types based on free English apps. Using Genres\n",
      "Tools : 8.449909747292418\n",
      "Entertainment : 6.069494584837545\n",
      "Education : 5.347472924187725\n",
      "Business : 4.591606498194946\n",
      "Productivity : 3.892148014440433\n",
      "Lifestyle : 3.892148014440433\n",
      "Finance : 3.7003610108303246\n",
      "Medical : 3.531137184115524\n",
      "Sports : 3.463447653429603\n",
      "Personalization : 3.3167870036101084\n",
      "Communication : 3.2378158844765346\n",
      "Action : 3.1024368231046933\n",
      "Health & Fitness : 3.0798736462093865\n",
      "Photography : 2.944494584837545\n",
      "News & Magazines : 2.7978339350180503\n",
      "Social : 2.6624548736462095\n",
      "Travel & Local : 2.3240072202166067\n",
      "Shopping : 2.2450361010830324\n",
      "Books & Reference : 2.1435018050541514\n",
      "Simulation : 2.0419675090252705\n",
      "Dating : 1.861462093862816\n",
      "Arcade : 1.8501805054151623\n",
      "Video Players & Editors : 1.7712093862815883\n",
      "Casual : 1.7599277978339352\n",
      "Maps & Navigation : 1.3989169675090252\n",
      "Food & Drink : 1.2409747292418771\n",
      "Puzzle : 1.128158844765343\n",
      "Racing : 0.9927797833935018\n",
      "Role Playing : 0.9363718411552346\n",
      "Libraries & Demo : 0.9363718411552346\n",
      "Auto & Vehicles : 0.9250902527075812\n",
      "Strategy : 0.9138086642599278\n",
      "House & Home : 0.8235559566787004\n",
      "Weather : 0.8009927797833934\n",
      "Events : 0.7107400722021661\n",
      "Adventure : 0.6768953068592057\n",
      "Comics : 0.6092057761732852\n",
      "Beauty : 0.5979241877256317\n",
      "Art & Design : 0.5979241877256317\n",
      "Parenting : 0.4963898916967509\n",
      "Card : 0.45126353790613716\n",
      "Casino : 0.42870036101083037\n",
      "Trivia : 0.41741877256317694\n",
      "Educational;Education : 0.39485559566787\n",
      "Board : 0.3835740072202166\n",
      "Educational : 0.3722924187725632\n",
      "Education;Education : 0.33844765342960287\n",
      "Word : 0.2594765342960289\n",
      "Casual;Pretend Play : 0.236913357400722\n",
      "Music : 0.2030685920577617\n",
      "Racing;Action & Adventure : 0.16922382671480143\n",
      "Puzzle;Brain Games : 0.16922382671480143\n",
      "Entertainment;Music & Video : 0.16922382671480143\n",
      "Casual;Brain Games : 0.13537906137184114\n",
      "Casual;Action & Adventure : 0.13537906137184114\n",
      "Arcade;Action & Adventure : 0.12409747292418773\n",
      "Action;Action & Adventure : 0.10153429602888085\n",
      "Educational;Pretend Play : 0.09025270758122744\n",
      "Simulation;Action & Adventure : 0.078971119133574\n",
      "Parenting;Education : 0.078971119133574\n",
      "Entertainment;Brain Games : 0.078971119133574\n",
      "Board;Brain Games : 0.078971119133574\n",
      "Parenting;Music & Video : 0.06768953068592057\n",
      "Educational;Brain Games : 0.06768953068592057\n",
      "Casual;Creativity : 0.06768953068592057\n",
      "Art & Design;Creativity : 0.06768953068592057\n",
      "Education;Pretend Play : 0.056407942238267145\n",
      "Role Playing;Pretend Play : 0.04512635379061372\n",
      "Education;Creativity : 0.04512635379061372\n",
      "Role Playing;Action & Adventure : 0.033844765342960284\n",
      "Puzzle;Action & Adventure : 0.033844765342960284\n",
      "Entertainment;Creativity : 0.033844765342960284\n",
      "Entertainment;Action & Adventure : 0.033844765342960284\n",
      "Educational;Creativity : 0.033844765342960284\n",
      "Educational;Action & Adventure : 0.033844765342960284\n",
      "Education;Music & Video : 0.033844765342960284\n",
      "Education;Brain Games : 0.033844765342960284\n",
      "Education;Action & Adventure : 0.033844765342960284\n",
      "Adventure;Action & Adventure : 0.033844765342960284\n",
      "Video Players & Editors;Music & Video : 0.02256317689530686\n",
      "Sports;Action & Adventure : 0.02256317689530686\n",
      "Simulation;Pretend Play : 0.02256317689530686\n",
      "Puzzle;Creativity : 0.02256317689530686\n",
      "Music;Music & Video : 0.02256317689530686\n",
      "Entertainment;Pretend Play : 0.02256317689530686\n",
      "Casual;Education : 0.02256317689530686\n",
      "Board;Action & Adventure : 0.02256317689530686\n",
      "Video Players & Editors;Creativity : 0.01128158844765343\n",
      "Trivia;Education : 0.01128158844765343\n",
      "Travel & Local;Action & Adventure : 0.01128158844765343\n",
      "Tools;Education : 0.01128158844765343\n",
      "Strategy;Education : 0.01128158844765343\n",
      "Strategy;Creativity : 0.01128158844765343\n",
      "Strategy;Action & Adventure : 0.01128158844765343\n",
      "Simulation;Education : 0.01128158844765343\n",
      "Role Playing;Brain Games : 0.01128158844765343\n",
      "Racing;Pretend Play : 0.01128158844765343\n",
      "Puzzle;Education : 0.01128158844765343\n",
      "Parenting;Brain Games : 0.01128158844765343\n",
      "Music & Audio;Music & Video : 0.01128158844765343\n",
      "Lifestyle;Pretend Play : 0.01128158844765343\n",
      "Lifestyle;Education : 0.01128158844765343\n",
      "Health & Fitness;Education : 0.01128158844765343\n",
      "Health & Fitness;Action & Adventure : 0.01128158844765343\n",
      "Entertainment;Education : 0.01128158844765343\n",
      "Communication;Creativity : 0.01128158844765343\n",
      "Comics;Creativity : 0.01128158844765343\n",
      "Casual;Music & Video : 0.01128158844765343\n",
      "Card;Action & Adventure : 0.01128158844765343\n",
      "Books & Reference;Education : 0.01128158844765343\n",
      "Art & Design;Pretend Play : 0.01128158844765343\n",
      "Art & Design;Action & Adventure : 0.01128158844765343\n",
      "Arcade;Pretend Play : 0.01128158844765343\n",
      "Adventure;Education : 0.01128158844765343\n",
      "\n",
      "\n"
     ]
    }
   ],
   "source": [
    "def display_table(dataset, index):\n",
    "    table = freq_table(dataset, index)\n",
    "    table_display = []\n",
    "    for key in table:\n",
    "        key_val_as_tuple = (table[key], key)\n",
    "        table_display.append(key_val_as_tuple)\n",
    "\n",
    "    table_sorted = sorted(table_display, reverse = True)\n",
    "    for entry in table_sorted:\n",
    "        print(entry[1], ':', entry[0])\n",
    "    print('\\n')\n",
    "\n",
    "def freq_table(list1, index):\n",
    "    freq_dictionary = {}\n",
    "    for temp in list1:\n",
    "        if temp[index] not in freq_dictionary:\n",
    "            freq_dictionary[temp[index]] = 1\n",
    "        else:\n",
    "            freq_dictionary[temp[index]] += 1\n",
    "    \n",
    "    sum = 0\n",
    "    for temp in freq_dictionary:\n",
    "        sum = sum + freq_dictionary[temp]\n",
    "##    print(sum)\n",
    "    \n",
    "    for temp in freq_dictionary:\n",
    "        freq_dictionary[temp] = freq_dictionary[temp] / sum * 100\n",
    "\n",
    "    return freq_dictionary\n",
    "\n",
    "print('Frequency of Apple app types based on free English apps')\n",
    "display_table(apple_clean_english_free, 11)\n",
    "\n",
    "print('Frequency of Android app types based on free English apps. Using Category')\n",
    "display_table(android_clean_english_free, 1)\n",
    "\n",
    "print('Frequency of Android app types based on free English apps. Using Genres')\n",
    "display_table(android_clean_english_free, 9)\n",
    "\n",
    "\n",
    "## example_test = [['abc', 'A'], ['bbc', 'A'], ['bac', 'A'], ['abs', 'B'], ['sdf', 'A'], ['wer', 'B']]\n",
    "\n",
    "## android_freq_categ = freq_table(android_clean_english_free, 1)\n",
    "## print(android_freq_categ)\n",
    "\n",
    "## android_freq_genres = freq_table(android_clean_english_free, 9)\n",
    "## print(android_freq_genres)\n",
    "\n",
    "## apple_freq_prime_genre = freq_table(apple_clean_english_free, 11)\n",
    "## print(apple_freq_prime_genre)"
   ]
  },
  {
   "cell_type": "markdown",
   "metadata": {},
   "source": [
    "Based on the analysis above, it seems Games to be the most common app type. Just because these are the app types, that does not mean those are the most used. We may use the most commonly downloaded app type and figure this out by looking at the # of downloads. If downloads are not available, # of reviews may be used as proxies."
   ]
  },
  {
   "cell_type": "code",
   "execution_count": 42,
   "metadata": {},
   "outputs": [
    {
     "name": "stdout",
     "output_type": "stream",
     "text": [
      "{'Social Networking': 106, 'Photo & Video': 160, 'Games': 1874, 'Music': 66, 'Reference': 18, 'Health & Fitness': 65, 'Weather': 28, 'Utilities': 81, 'Travel': 40, 'Shopping': 84, 'News': 43, 'Navigation': 6, 'Lifestyle': 51, 'Entertainment': 254, 'Food & Drink': 26, 'Sports': 69, 'Book': 14, 'Finance': 36, 'Education': 118, 'Productivity': 56, 'Business': 17, 'Catalogs': 4, 'Medical': 6}\n",
      "{'Social Networking': 7584125, 'Photo & Video': 4550647, 'Games': 42705967, 'Music': 3783551, 'Reference': 1348958, 'Health & Fitness': 1514371, 'Weather': 1463837, 'Utilities': 1513441, 'Travel': 1129752, 'Shopping': 2261254, 'News': 913665, 'Navigation': 516542, 'Lifestyle': 840774, 'Entertainment': 3563577, 'Food & Drink': 866682, 'Sports': 1587614, 'Book': 556619, 'Finance': 1132846, 'Education': 826470, 'Productivity': 1177591, 'Business': 127349, 'Catalogs': 16016, 'Medical': 3672}\n",
      "{'Social Networking': 71548.34905660378, 'Photo & Video': 28441.54375, 'Games': 22788.6696905016, 'Music': 57326.530303030304, 'Reference': 74942.11111111111, 'Health & Fitness': 23298.015384615384, 'Weather': 52279.892857142855, 'Utilities': 18684.456790123455, 'Travel': 28243.8, 'Shopping': 26919.690476190477, 'News': 21248.023255813954, 'Navigation': 86090.33333333333, 'Lifestyle': 16485.764705882353, 'Entertainment': 14029.830708661417, 'Food & Drink': 33333.92307692308, 'Sports': 23008.898550724636, 'Book': 39758.5, 'Finance': 31467.944444444445, 'Education': 7003.983050847458, 'Productivity': 21028.410714285714, 'Business': 7491.117647058823, 'Catalogs': 4004.0, 'Medical': 612.0}\n"
     ]
    }
   ],
   "source": [
    "apple_freq_table = {}\n",
    "apple_review_total = {}\n",
    "apple_avg_review = {}\n",
    "\n",
    "def freq_table1(list1, index):\n",
    "    freq_dictionary = {}\n",
    "    for temp in list1:\n",
    "        if temp[index] not in freq_dictionary:\n",
    "            freq_dictionary[temp[index]] = 1\n",
    "        else:\n",
    "            freq_dictionary[temp[index]] += 1\n",
    "    return freq_dictionary\n",
    "\n",
    "apple_freq_table = freq_table1(apple_clean_english_free, 11)\n",
    "print(apple_freq_table)\n",
    "\n",
    "for temp in apple_clean_english_free:\n",
    "    if temp[11] not in apple_review_total:\n",
    "        apple_review_total[temp[11]] = int(temp[5])\n",
    "    else:\n",
    "        apple_review_total[temp[11]] += int(temp[5])\n",
    "        \n",
    "print(apple_review_total)\n",
    "\n",
    "for temp in apple_freq_table:\n",
    "    #print(temp)\n",
    "    #print(apple_review_total[temp])\n",
    "    #print(apple_avg_review[temp])\n",
    "    apple_avg_review[temp] = apple_review_total[temp] / apple_freq_table[temp]\n",
    "    \n",
    "print(apple_avg_review)"
   ]
  },
  {
   "cell_type": "code",
   "execution_count": null,
   "metadata": {},
   "outputs": [],
   "source": []
  }
 ],
 "metadata": {
  "kernelspec": {
   "display_name": "Python 3",
   "language": "python",
   "name": "python3"
  },
  "language_info": {
   "codemirror_mode": {
    "name": "ipython",
    "version": 3
   },
   "file_extension": ".py",
   "mimetype": "text/x-python",
   "name": "python",
   "nbconvert_exporter": "python",
   "pygments_lexer": "ipython3",
   "version": "3.8.2"
  }
 },
 "nbformat": 4,
 "nbformat_minor": 2
}
